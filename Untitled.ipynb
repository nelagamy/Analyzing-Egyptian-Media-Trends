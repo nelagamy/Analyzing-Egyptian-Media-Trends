{
 "cells": [
  {
   "cell_type": "code",
   "execution_count": null,
   "metadata": {},
   "outputs": [
    {
     "name": "stdout",
     "output_type": "stream",
     "text": [
      ">help\n",
      "start - to start the car\n",
      "stop - to stop the car\n",
      "quit - to exit\n",
      ">start\n",
      "Car started...ready to go!\n",
      ">start\n",
      "Car is already started bro.\n",
      ">start\n",
      "Car is already started bro.\n"
     ]
    }
   ],
   "source": [
    "contact = 1\n",
    "status = \"idle\"\n",
    "while contact == 1:\n",
    "    usrinput = input(\">\")\n",
    "    usrinput = usrinput.lower()\n",
    "    if usrinput == \"help\":\n",
    "        print(\"start - to start the car\")\n",
    "        print(\"stop - to stop the car\")\n",
    "        print(\"quit - to exit\")\n",
    "    elif usrinput == \"start\" and status != \"started\" :\n",
    "        print(\"Car started...ready to go!\")\n",
    "        status = \"started\"\n",
    "    elif usrinput == \"start\" and status == \"started\" :\n",
    "        print(\"Car is already started bro.\")\n",
    "    elif usrinput == \"stop\":\n",
    "        print(\"Car stopped.\")\n",
    "        status = \"stopped\"\n",
    "    elif usrinput == \"quit\":\n",
    "        contact = 0\n",
    "    else:\n",
    "        print(\"I don't understand that\")"
   ]
  },
  {
   "cell_type": "code",
   "execution_count": null,
   "metadata": {},
   "outputs": [],
   "source": []
  },
  {
   "cell_type": "code",
   "execution_count": null,
   "metadata": {},
   "outputs": [],
   "source": []
  },
  {
   "cell_type": "code",
   "execution_count": null,
   "metadata": {},
   "outputs": [],
   "source": []
  }
 ],
 "metadata": {
  "kernelspec": {
   "display_name": "Python 3",
   "language": "python",
   "name": "python3"
  },
  "language_info": {
   "codemirror_mode": {
    "name": "ipython",
    "version": 3
   },
   "file_extension": ".py",
   "mimetype": "text/x-python",
   "name": "python",
   "nbconvert_exporter": "python",
   "pygments_lexer": "ipython3",
   "version": "3.8.5"
  }
 },
 "nbformat": 4,
 "nbformat_minor": 4
}
